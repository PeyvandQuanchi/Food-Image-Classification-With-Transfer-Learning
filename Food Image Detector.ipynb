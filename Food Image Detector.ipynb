{
  "nbformat": 4,
  "nbformat_minor": 0,
  "metadata": {
    "colab": {
      "provenance": [],
      "gpuType": "T4"
    },
    "kernelspec": {
      "name": "python3",
      "display_name": "Python 3"
    },
    "language_info": {
      "name": "python"
    },
    "accelerator": "GPU"
  },
  "cells": [
    {
      "cell_type": "code",
      "execution_count": null,
      "metadata": {
        "id": "kpFCilr8kj81"
      },
      "outputs": [],
      "source": [
        "import tensorflow as tf\n",
        "from tensorflow.keras.layers import Input,Dense,Flatten\n",
        "from tensorflow.keras.applications.vgg16 import VGG16 as PretrainedModel,preprocess_input\n",
        "from tensorflow.keras.models import Model\n",
        "from tensorflow.keras.preprocessing import image\n",
        "from tensorflow.keras.optimizers import SGD, Adam\n",
        "\n",
        "from glob import glob\n",
        "import numpy as np\n",
        "import matplotlib.pyplot as plt\n",
        "import sys,os\n",
        "\n"
      ]
    },
    {
      "cell_type": "code",
      "source": [
        "# Data from: https://mmspg.epfl.ch/downloads/food-image-datasets/\n",
        "# !wget --passive-ftp --prefer-family=ipv4 --ftp-user FoodImage@grebvm2.epfl.ch \\\n",
        "#  --ftp-password Cahc1moo -nc ftp://tremplin.epfl.ch/Food-5K.zip\n",
        "!wget -nc https://archive.org/download/food-5-k/Food-5K.zip"
      ],
      "metadata": {
        "colab": {
          "base_uri": "https://localhost:8080/"
        },
        "id": "S0GnaoSpwDlr",
        "outputId": "11b0585e-5794-419e-dbe8-d3ed6e8f1373"
      },
      "execution_count": null,
      "outputs": [
        {
          "output_type": "stream",
          "name": "stdout",
          "text": [
            "--2025-02-21 10:00:57--  https://archive.org/download/food-5-k/Food-5K.zip\n",
            "Resolving archive.org (archive.org)... 207.241.224.2\n",
            "Connecting to archive.org (archive.org)|207.241.224.2|:443... connected.\n",
            "HTTP request sent, awaiting response... 302 Found\n",
            "Location: https://ia601606.us.archive.org/13/items/food-5-k/Food-5K.zip [following]\n",
            "--2025-02-21 10:00:57--  https://ia601606.us.archive.org/13/items/food-5-k/Food-5K.zip\n",
            "Resolving ia601606.us.archive.org (ia601606.us.archive.org)... 207.241.227.86\n",
            "Connecting to ia601606.us.archive.org (ia601606.us.archive.org)|207.241.227.86|:443... connected.\n",
            "HTTP request sent, awaiting response... 200 OK\n",
            "Length: 447001986 (426M) [application/zip]\n",
            "Saving to: ‘Food-5K.zip’\n",
            "\n",
            "Food-5K.zip         100%[===================>] 426.29M   151MB/s    in 2.8s    \n",
            "\n",
            "2025-02-21 10:01:00 (151 MB/s) - ‘Food-5K.zip’ saved [447001986/447001986]\n",
            "\n"
          ]
        }
      ]
    },
    {
      "cell_type": "code",
      "source": [
        "!unzip -qq -o Food-5K.zip"
      ],
      "metadata": {
        "id": "-1-QqU1-wtAw"
      },
      "execution_count": null,
      "outputs": []
    },
    {
      "cell_type": "code",
      "source": [
        "!mv Food-5K/* ."
      ],
      "metadata": {
        "id": "hen1DM1VxSoG"
      },
      "execution_count": null,
      "outputs": []
    },
    {
      "cell_type": "code",
      "source": [
        "!ls"
      ],
      "metadata": {
        "colab": {
          "base_uri": "https://localhost:8080/"
        },
        "id": "D-BkvPoUyGae",
        "outputId": "137eb693-1f7b-4521-ac68-985caac458a2"
      },
      "execution_count": null,
      "outputs": [
        {
          "output_type": "stream",
          "name": "stdout",
          "text": [
            "evaluation  Food-5K  Food-5K.zip  __MACOSX  sample_data  training  validation\n"
          ]
        }
      ]
    },
    {
      "cell_type": "code",
      "source": [
        "!mkdir data"
      ],
      "metadata": {
        "id": "3CClbhYCzSgj"
      },
      "execution_count": null,
      "outputs": []
    },
    {
      "cell_type": "code",
      "source": [
        "!mkdir data/train\n",
        "!mkdir data/test"
      ],
      "metadata": {
        "id": "cYZW-Lfd9XGc"
      },
      "execution_count": null,
      "outputs": []
    },
    {
      "cell_type": "code",
      "source": [
        "!mkdir data/train/food\n",
        "!mkdir data/train/nonfood\n",
        "!mkdir data/test/food\n",
        "!mkdir data/test/nonfood"
      ],
      "metadata": {
        "id": "fOgzMlyszVzZ"
      },
      "execution_count": null,
      "outputs": []
    },
    {
      "cell_type": "code",
      "source": [
        "!mv training/0*.jpg data/train/nonfood/\n",
        "!mv training/1*.jpg data/train/food/\n",
        "!mv validation/0*.jpg data/test/nonfood/\n",
        "!mv validation/1*.jpg data/test/food/"
      ],
      "metadata": {
        "id": "M3TppA-fz0kf"
      },
      "execution_count": null,
      "outputs": []
    },
    {
      "cell_type": "code",
      "source": [
        "train_path = 'data/train'\n",
        "valid_path = 'data/test'"
      ],
      "metadata": {
        "id": "MPnCBR1i0YpT"
      },
      "execution_count": null,
      "outputs": []
    },
    {
      "cell_type": "code",
      "source": [
        "IMAGE_SIZE = [200,200]"
      ],
      "metadata": {
        "id": "Hx87QSwl0g18"
      },
      "execution_count": null,
      "outputs": []
    },
    {
      "cell_type": "code",
      "source": [
        "image_files = glob(train_path + \"/*/*jpg\")\n",
        "valid_image_files = glob(valid_path + \"/*/*.jpg\")"
      ],
      "metadata": {
        "id": "sYC7TjDq01Vp"
      },
      "execution_count": null,
      "outputs": []
    },
    {
      "cell_type": "code",
      "source": [
        "folders = glob(train_path + \"/*\")"
      ],
      "metadata": {
        "id": "ylZk2bb01HGS"
      },
      "execution_count": null,
      "outputs": []
    },
    {
      "cell_type": "code",
      "source": [
        "K = len(folders)\n",
        "K"
      ],
      "metadata": {
        "colab": {
          "base_uri": "https://localhost:8080/"
        },
        "id": "eseOgJh85bu0",
        "outputId": "74eefd01-374c-4e13-8b76-52a1744559fe"
      },
      "execution_count": null,
      "outputs": [
        {
          "output_type": "execute_result",
          "data": {
            "text/plain": [
              "2"
            ]
          },
          "metadata": {},
          "execution_count": 18
        }
      ]
    },
    {
      "cell_type": "code",
      "source": [
        "#load the pretrained model\n",
        "ptm = PretrainedModel(input_shape=IMAGE_SIZE + [3],weights='imagenet',include_top=False)"
      ],
      "metadata": {
        "colab": {
          "base_uri": "https://localhost:8080/"
        },
        "id": "bG_7aQ_21WF6",
        "outputId": "e5263828-2985-41ba-be99-1abe64ea1f7a"
      },
      "execution_count": null,
      "outputs": [
        {
          "output_type": "stream",
          "name": "stdout",
          "text": [
            "Downloading data from https://storage.googleapis.com/tensorflow/keras-applications/vgg16/vgg16_weights_tf_dim_ordering_tf_kernels_notop.h5\n",
            "\u001b[1m58889256/58889256\u001b[0m \u001b[32m━━━━━━━━━━━━━━━━━━━━\u001b[0m\u001b[37m\u001b[0m \u001b[1m0s\u001b[0m 0us/step\n"
          ]
        }
      ]
    },
    {
      "cell_type": "code",
      "source": [
        "#Freeze the weights\n",
        "ptm.trainable = False"
      ],
      "metadata": {
        "id": "uG2cRgRy2AYl"
      },
      "execution_count": null,
      "outputs": []
    },
    {
      "cell_type": "code",
      "source": [
        "#data Augmentation\n",
        "data_augmentation = tf.keras.Sequential ([\n",
        "    tf.keras.layers.RandomFlip('horizontal'),\n",
        "    tf.keras.layers.RandomRotation(0.1),\n",
        "    tf.keras.layers.RandomZoom(0.1)\n",
        "])\n"
      ],
      "metadata": {
        "id": "MwdmYLv92dQ6"
      },
      "execution_count": null,
      "outputs": []
    },
    {
      "cell_type": "code",
      "source": [],
      "metadata": {
        "id": "5iJpAOvcF_qD"
      },
      "execution_count": null,
      "outputs": []
    },
    {
      "cell_type": "code",
      "source": [
        "#Build the model with functional API\n",
        "i = Input(shape = (IMAGE_SIZE + [3]))\n",
        "x = preprocess_input(i)\n",
        "x = data_augmentation(x)\n",
        "x = ptm(x)\n",
        "x = Flatten()(x)\n",
        "x = Dense(K,activation = \"softmax\")(x)\n",
        "\n",
        "model = Model(inputs = i,outputs = x)\n",
        "\n"
      ],
      "metadata": {
        "id": "waQh3FVO3FC5"
      },
      "execution_count": null,
      "outputs": []
    },
    {
      "cell_type": "code",
      "source": [
        "model.compile(optimizer = 'adam',loss =\"sparse_categorical_crossentropy\",metrics = [\"accuracy\"])"
      ],
      "metadata": {
        "id": "GfqAxeAR45Fz"
      },
      "execution_count": null,
      "outputs": []
    },
    {
      "cell_type": "code",
      "source": [
        "batch_size = 128\n",
        "#Creating the dataset\n",
        "train_ds = tf.keras.utils.image_dataset_from_directory(\n",
        "    train_path,\n",
        "    image_size = IMAGE_SIZE,\n",
        "    batch_size = batch_size\n",
        ")\n",
        "valid_ds = tf.keras.utils.image_dataset_from_directory(\n",
        "    valid_path,\n",
        "    image_size = IMAGE_SIZE,\n",
        "    batch_size = batch_size\n",
        ")"
      ],
      "metadata": {
        "colab": {
          "base_uri": "https://localhost:8080/"
        },
        "id": "0atcrXU66rvu",
        "outputId": "e8349776-3c77-40d1-d2a6-5c0c0c1c89b0"
      },
      "execution_count": null,
      "outputs": [
        {
          "output_type": "stream",
          "name": "stdout",
          "text": [
            "Found 3000 files belonging to 2 classes.\n",
            "Found 1000 files belonging to 2 classes.\n"
          ]
        }
      ]
    },
    {
      "cell_type": "code",
      "source": [],
      "metadata": {
        "id": "HmrqI2HIGFAA"
      },
      "execution_count": null,
      "outputs": []
    },
    {
      "cell_type": "code",
      "source": [
        "#Optimization\n",
        "AUTOTUNE = tf.data.AUTOTUNE\n",
        "\n",
        "train_ds = train_ds.cache().shuffle(1000).prefetch(buffer_size=AUTOTUNE)\n",
        "valid_ds = valid_ds.cache().prefetch(buffer_size=AUTOTUNE)"
      ],
      "metadata": {
        "id": "N4KF097E7pSq"
      },
      "execution_count": null,
      "outputs": []
    },
    {
      "cell_type": "code",
      "source": [
        "r = model.fit(train_ds,validation_data=valid_ds,epochs = 10)"
      ],
      "metadata": {
        "colab": {
          "base_uri": "https://localhost:8080/"
        },
        "id": "CLnWZxOL8Wd3",
        "outputId": "8d67efe9-109c-4001-8fc3-2aa3ea545ba3"
      },
      "execution_count": null,
      "outputs": [
        {
          "output_type": "stream",
          "name": "stdout",
          "text": [
            "Epoch 1/10\n",
            "\u001b[1m24/24\u001b[0m \u001b[32m━━━━━━━━━━━━━━━━━━━━\u001b[0m\u001b[37m\u001b[0m \u001b[1m41s\u001b[0m 991ms/step - accuracy: 0.8071 - loss: 3.5974 - val_accuracy: 0.9620 - val_loss: 1.2156\n",
            "Epoch 2/10\n",
            "\u001b[1m24/24\u001b[0m \u001b[32m━━━━━━━━━━━━━━━━━━━━\u001b[0m\u001b[37m\u001b[0m \u001b[1m13s\u001b[0m 528ms/step - accuracy: 0.9675 - loss: 0.5777 - val_accuracy: 0.9750 - val_loss: 0.5816\n",
            "Epoch 3/10\n",
            "\u001b[1m24/24\u001b[0m \u001b[32m━━━━━━━━━━━━━━━━━━━━\u001b[0m\u001b[37m\u001b[0m \u001b[1m23s\u001b[0m 618ms/step - accuracy: 0.9861 - loss: 0.3688 - val_accuracy: 0.9770 - val_loss: 0.4367\n",
            "Epoch 4/10\n",
            "\u001b[1m24/24\u001b[0m \u001b[32m━━━━━━━━━━━━━━━━━━━━\u001b[0m\u001b[37m\u001b[0m \u001b[1m13s\u001b[0m 539ms/step - accuracy: 0.9857 - loss: 0.1654 - val_accuracy: 0.9750 - val_loss: 0.4938\n",
            "Epoch 5/10\n",
            "\u001b[1m24/24\u001b[0m \u001b[32m━━━━━━━━━━━━━━━━━━━━\u001b[0m\u001b[37m\u001b[0m \u001b[1m13s\u001b[0m 555ms/step - accuracy: 0.9905 - loss: 0.1057 - val_accuracy: 0.9740 - val_loss: 0.4846\n",
            "Epoch 6/10\n",
            "\u001b[1m24/24\u001b[0m \u001b[32m━━━━━━━━━━━━━━━━━━━━\u001b[0m\u001b[37m\u001b[0m \u001b[1m22s\u001b[0m 641ms/step - accuracy: 0.9896 - loss: 0.1008 - val_accuracy: 0.9740 - val_loss: 0.5184\n",
            "Epoch 7/10\n",
            "\u001b[1m24/24\u001b[0m \u001b[32m━━━━━━━━━━━━━━━━━━━━\u001b[0m\u001b[37m\u001b[0m \u001b[1m19s\u001b[0m 563ms/step - accuracy: 0.9949 - loss: 0.0442 - val_accuracy: 0.9750 - val_loss: 0.4289\n",
            "Epoch 8/10\n",
            "\u001b[1m24/24\u001b[0m \u001b[32m━━━━━━━━━━━━━━━━━━━━\u001b[0m\u001b[37m\u001b[0m \u001b[1m20s\u001b[0m 552ms/step - accuracy: 0.9919 - loss: 0.0818 - val_accuracy: 0.9750 - val_loss: 0.4589\n",
            "Epoch 9/10\n",
            "\u001b[1m24/24\u001b[0m \u001b[32m━━━━━━━━━━━━━━━━━━━━\u001b[0m\u001b[37m\u001b[0m \u001b[1m20s\u001b[0m 553ms/step - accuracy: 0.9953 - loss: 0.0878 - val_accuracy: 0.9730 - val_loss: 0.4675\n",
            "Epoch 10/10\n",
            "\u001b[1m24/24\u001b[0m \u001b[32m━━━━━━━━━━━━━━━━━━━━\u001b[0m\u001b[37m\u001b[0m \u001b[1m13s\u001b[0m 566ms/step - accuracy: 0.9942 - loss: 0.0616 - val_accuracy: 0.9800 - val_loss: 0.4489\n"
          ]
        }
      ]
    },
    {
      "cell_type": "code",
      "source": [
        "plt.plot(r.history['loss'],label = \"train loss\")\n",
        "plt.plot(r.history['val_loss'],label = \"val loss\")\n",
        "plt.legend()\n",
        "plt.show()"
      ],
      "metadata": {
        "colab": {
          "base_uri": "https://localhost:8080/",
          "height": 430
        },
        "id": "VtR2oZE89cmE",
        "outputId": "21d0a465-5eab-4fe0-996d-098e84da0297"
      },
      "execution_count": null,
      "outputs": [
        {
          "output_type": "display_data",
          "data": {
            "text/plain": [
              "<Figure size 640x480 with 1 Axes>"
            ],
            "image/png": "[encoded data removed]"
          },
          "metadata": {}
        }
      ]
    }
  ]
}